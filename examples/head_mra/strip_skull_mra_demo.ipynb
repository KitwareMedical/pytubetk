{
 "cells": [
  {
   "cell_type": "code",
   "execution_count": 1,
   "id": "53a1f2ad-9d61-49de-9048-aed0ee3bca52",
   "metadata": {
    "execution": {
     "iopub.execute_input": "2023-12-14T18:17:10.197657Z",
     "iopub.status.busy": "2023-12-14T18:17:10.197657Z",
     "iopub.status.idle": "2023-12-14T18:17:10.778331Z",
     "shell.execute_reply": "2023-12-14T18:17:10.778331Z",
     "shell.execute_reply.started": "2023-12-14T18:17:10.197657Z"
    },
    "tags": []
   },
   "outputs": [],
   "source": [
    "import site\n",
    "\n",
    "site.addsitedir(\"../../pytubetk\")\n",
    "from strip_skull import *\n",
    "\n",
    "import itk"
   ]
  },
  {
   "cell_type": "code",
   "execution_count": 2,
   "id": "785928c1-7d9a-40b5-816f-e6939d31d79b",
   "metadata": {
    "execution": {
     "iopub.execute_input": "2023-12-14T18:17:10.780336Z",
     "iopub.status.busy": "2023-12-14T18:17:10.779335Z",
     "iopub.status.idle": "2023-12-14T18:17:12.159984Z",
     "shell.execute_reply": "2023-12-14T18:17:12.159984Z",
     "shell.execute_reply.started": "2023-12-14T18:17:10.780336Z"
    },
    "tags": []
   },
   "outputs": [],
   "source": [
    "images = [\n",
    "    itk.imread(\"../data/MRI-Cases/mra.mha\", itk.F),\n",
    "    itk.imread(\"../data/MRI-Cases/mri_t1_sag.mha\", itk.F),\n",
    "    itk.imread(\"../data/MRI-Cases/mri_t2.mha\", itk.F),\n",
    "]"
   ]
  },
  {
   "cell_type": "code",
   "execution_count": 3,
   "id": "2a629739-bb06-4dcd-baf3-27d5aacf9f93",
   "metadata": {
    "execution": {
     "iopub.execute_input": "2023-12-14T18:17:12.160988Z",
     "iopub.status.busy": "2023-12-14T18:17:12.160988Z",
     "iopub.status.idle": "2023-12-14T18:27:02.763394Z",
     "shell.execute_reply": "2023-12-14T18:27:02.732722Z",
     "shell.execute_reply.started": "2023-12-14T18:17:12.160988Z"
    },
    "tags": []
   },
   "outputs": [
    {
     "name": "stdout",
     "output_type": "stream",
     "text": [
      "*** Set input images ***\n",
      "*** Register cohort ***\n",
      "*** Initial brain segmentation ***\n",
      "*** Segment brain using registered cohort ***\n"
     ]
    }
   ],
   "source": [
    "ssfilter = strip_skull(data_dir=\"../data/MRI-Normals/\", debug=True)\n",
    "ssfilter.set_input_images(images)\n",
    "brain_im,anatomy_brain_im,mask_im = ssfilter.run(target_image_num=0, anatomic_image_num=1, use_iterative_refinement=False)"
   ]
  },
  {
   "cell_type": "code",
   "execution_count": 4,
   "id": "4298c6c4-5bd6-46c6-a745-c356d693eb2a",
   "metadata": {
    "execution": {
     "iopub.execute_input": "2023-12-14T18:27:02.792391Z",
     "iopub.status.busy": "2023-12-14T18:27:02.790395Z",
     "iopub.status.idle": "2023-12-14T18:27:02.922391Z",
     "shell.execute_reply": "2023-12-14T18:27:02.922391Z",
     "shell.execute_reply.started": "2023-12-14T18:27:02.792391Z"
    },
    "tags": []
   },
   "outputs": [],
   "source": [
    "itk.imwrite(brain_im, \"brain.mha\")"
   ]
  },
  {
   "cell_type": "code",
   "execution_count": 5,
   "id": "ec287548-38b3-4fe2-8f62-b86ef0d54f38",
   "metadata": {
    "execution": {
     "iopub.execute_input": "2023-12-14T18:27:02.925527Z",
     "iopub.status.busy": "2023-12-14T18:27:02.924525Z",
     "iopub.status.idle": "2023-12-14T18:27:03.033584Z",
     "shell.execute_reply": "2023-12-14T18:27:03.033584Z",
     "shell.execute_reply.started": "2023-12-14T18:27:02.925527Z"
    },
    "tags": []
   },
   "outputs": [],
   "source": [
    "brain_vote_im = ssfilter.cohort_regbrain\n",
    "itk.imwrite(brain_vote_im, \"brain_votes.mha\")"
   ]
  }
 ],
 "metadata": {
  "kernelspec": {
   "display_name": "Python 3 (ipykernel)",
   "language": "python",
   "name": "python3"
  },
  "language_info": {
   "codemirror_mode": {
    "name": "ipython",
    "version": 3
   },
   "file_extension": ".py",
   "mimetype": "text/x-python",
   "name": "python",
   "nbconvert_exporter": "python",
   "pygments_lexer": "ipython3",
   "version": "3.11.7"
  }
 },
 "nbformat": 4,
 "nbformat_minor": 5
}
