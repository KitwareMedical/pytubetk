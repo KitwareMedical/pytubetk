{
 "cells": [
  {
   "cell_type": "code",
   "execution_count": 1,
   "id": "7e4b2210-903a-4f11-9f45-f6efdc1d6792",
   "metadata": {
    "execution": {
     "iopub.execute_input": "2024-01-02T14:26:54.747487Z",
     "iopub.status.busy": "2024-01-02T14:26:54.746490Z",
     "iopub.status.idle": "2024-01-02T14:27:05.601775Z",
     "shell.execute_reply": "2024-01-02T14:27:05.599758Z",
     "shell.execute_reply.started": "2024-01-02T14:26:54.747487Z"
    },
    "tags": []
   },
   "outputs": [],
   "source": [
    "import itk\n",
    "from itk import TubeTK as tube\n",
    "\n",
    "import site\n",
    "\n",
    "site.addsitedir(\"../../pytubetk\")\n",
    "from tube_visualization_utils import *\n",
    "from tube_viewer import tube_viewer\n",
    "from tube_utils import *\n",
    "\n",
    "from segment_vessels_brain_mra import  segment_vessels_brain_mra"
   ]
  },
  {
   "cell_type": "code",
   "execution_count": 2,
   "id": "686565a3-593b-4acf-9e45-c821742bc64e",
   "metadata": {
    "execution": {
     "iopub.execute_input": "2024-01-02T14:27:05.605770Z",
     "iopub.status.busy": "2024-01-02T14:27:05.604777Z",
     "iopub.status.idle": "2024-01-02T14:28:18.654901Z",
     "shell.execute_reply": "2024-01-02T14:28:18.652830Z",
     "shell.execute_reply.started": "2024-01-02T14:27:05.605770Z"
    }
   },
   "outputs": [
    {
     "name": "stderr",
     "output_type": "stream",
     "text": [
      "itkImageF4 not loaded from module TubeTK because of exception:\n",
      " module 'itk.TubeTKPython' has no attribute 'itkImageF4'\n",
      "vectoritkImageF4 not loaded from module TubeTK because of exception:\n",
      " module 'itk.TubeTKPython' has no attribute 'vectoritkImageF4'\n"
     ]
    }
   ],
   "source": [
    "img = itk.imread(\"../data/MRI-Cases/mra-brain.mha\", itk.F)\n",
    "makeIso = tube.ResampleImage.New(img, MakeHighResIso=True)\n",
    "makeIso.Update()\n",
    "img_iso = makeIso.GetOutput()\n",
    "\n",
    "img_org = itk.imread(\"../data/MRI-Cases/mra.mha\", itk.F)\n",
    "makeIso = tube.ResampleImage.New(img_org, MakeHighResIso=True)\n",
    "makeIso.Update()\n",
    "img_org_iso = makeIso.GetOutput()"
   ]
  },
  {
   "cell_type": "code",
   "execution_count": 3,
   "id": "2a629739-bb06-4dcd-baf3-27d5aacf9f93",
   "metadata": {
    "execution": {
     "iopub.execute_input": "2024-01-02T14:28:25.494440Z",
     "iopub.status.busy": "2024-01-02T14:28:25.494440Z",
     "iopub.status.idle": "2024-01-02T14:28:42.425045Z",
     "shell.execute_reply": "2024-01-02T14:28:42.422914Z",
     "shell.execute_reply.started": "2024-01-02T14:28:25.494440Z"
    },
    "tags": []
   },
   "outputs": [
    {
     "name": "stdout",
     "output_type": "stream",
     "text": [
      "initializing image\n",
      "Saving mask image\n"
     ]
    }
   ],
   "source": [
    "vess = segment_vessels_brain_mra(debug=True, debug_output_base_name=\"Debug/brain\")\n",
    "vess.set_input_image(img_iso)"
   ]
  },
  {
   "cell_type": "code",
   "execution_count": 4,
   "id": "5217f0b3",
   "metadata": {
    "execution": {
     "iopub.execute_input": "2024-01-02T14:28:42.428936Z",
     "iopub.status.busy": "2024-01-02T14:28:42.428025Z",
     "iopub.status.idle": "2024-01-02T15:11:42.664945Z",
     "shell.execute_reply": "2024-01-02T15:11:42.661641Z",
     "shell.execute_reply.started": "2024-01-02T14:28:42.428025Z"
    },
    "tags": []
   },
   "outputs": [
    {
     "name": "stdout",
     "output_type": "stream",
     "text": [
      "Normalizing image\n",
      "data stats = 82.136536 18.571918\n",
      "data = 0.0 0.67930484\n",
      "Saving normalized image\n",
      "Identifying training seeds\n",
      "[ -1.82006   -4.825642 -28.399886] : 98.300156\n",
      "[  9.097912 -15.743614 -25.460432] : 98.04999\n",
      "[-13.157954 -16.163536 -25.880354] : 97.111015\n",
      "[ -3.079826 -30.440884 -12.44285 ] : 91.89418\n",
      "[ -2.239982 -40.09909   -1.524878] : 91.64016\n",
      "[ -1.400138 -25.40182  -17.901836] : 89.96093\n",
      "[ -7.698968 -42.618622  11.072782] : 89.404366\n",
      "[ -4.339592 -31.280728  -8.24363 ] : 89.34921\n",
      "[ -3.079826  -6.925252 -33.019028] : 89.09401\n",
      "[-24.075926 -22.042444 -23.360822] : 88.53641\n",
      "[ -3.91967  -54.79636   12.332548] : 88.26187\n",
      "[ -3.079826 -35.479948  -4.04441 ] : 88.16008\n",
      "[-11.898188 -27.50143  -36.378404] : 87.54731\n",
      "[-19.876706 -17.843224 -23.360822] : 87.471\n",
      "[ 27.57448  -22.462366 -21.681134] : 86.19409\n",
      "[ 15.816664 -16.163536 -21.681134] : 86.05617\n",
      "[  8.258068 -14.90377  -35.958482] : 84.402176\n",
      "[ 11.617444 -19.522912 -35.118638] : 83.85529\n",
      "[ -6.859124  -4.825642 -27.14012 ] : 83.148254\n",
      "[ 20.015884 -17.00338  -21.681134] : 83.10747\n",
      "[ 10.7776   -31.280728 -35.118638] : 83.03402\n",
      "[  8.258068 -18.683068 -30.079574] : 82.315895\n",
      "[ -6.859124 -43.878388   6.45364 ] : 82.307396\n",
      "[ 29.254168 -25.821742 -16.64207 ] : 82.2354\n",
      "[  6.57838  -16.583458 -21.261212] : 82.17044\n",
      "[ -3.91967  -33.80026  -21.261212] : 81.372765\n",
      "[ -8.958734 -22.882288 -34.698716] : 81.34287\n",
      "[  1.119394 -21.2026   -19.581524] : 81.332886\n",
      "[ -2.659904 -53.536594   7.293484] : 81.27498\n",
      "[ -7.279046 -52.276828   5.193874] : 81.2387\n",
      "[  6.158458  -3.985798 -23.780744] : 81.03808\n",
      "[34.293232 -8.60494  -7.823708] : 80.9192\n",
      "[  0.699472  -4.825642 -24.200666] : 79.850525\n",
      "[-50.950934  -9.864706 -11.603006] : 79.68378\n",
      "[ -3.91967  -32.960416 -17.061992] : 79.29355\n",
      "[-12.31811  -16.583458 -36.378404] : 79.006226\n",
      "[-28.275146 -26.661586 -23.780744] : 78.795586\n",
      "[ -3.499748 -44.718232   1.834498] : 77.95474\n",
      "[ 36.812764 -20.362756  -4.884254] : 77.626564\n",
      "[ 35.552998 -22.882288 -19.161602] : 77.22017\n",
      "[-44.652104 -19.10299  -17.061992] : 76.61814\n",
      "[ -3.91967  -54.376438  16.531768] : 76.44227\n",
      "[ -9.378656 -17.843224 -20.421368] : 76.37871\n",
      "[ 13.297132 -24.142054 -36.378404] : 75.67793\n",
      "[-11.058344 -15.323692  30.809116] : 75.67619\n",
      "[ -7.698968 -40.519012  15.272002] : 75.3203\n",
      "[-19.876706  13.231004 -26.720198] : 74.70786\n",
      "[-10.2185   -20.782678 -28.819808] : 74.37193\n",
      "[ 22.535416 -22.042444   8.55325 ] : 74.2554\n",
      "[ -4.339592 -49.337374  -0.685034] : 74.197266\n",
      "Generating training mask\n",
      "   - Extracting training vessels\n",
      "     Seed 0 of 50\n",
      "     Seed 1 of 50\n",
      "     Seed 2 of 50\n",
      "     Seed 3 of 50\n",
      "     Seed 4 of 50\n",
      "     Seed 5 of 50\n",
      "     Seed 6 of 50\n",
      "     Seed 7 of 50\n",
      "     Seed 8 of 50\n",
      "     Seed 9 of 50\n",
      "     Seed 10 of 50\n",
      "     Seed 11 of 50\n",
      "     Seed 12 of 50\n",
      "     Seed 13 of 50\n",
      "     Seed 14 of 50\n",
      "     Seed 15 of 50\n",
      "     Seed 16 of 50\n",
      "     Seed 17 of 50\n",
      "     Seed 18 of 50\n",
      "     Seed 19 of 50\n",
      "     Seed 20 of 50\n",
      "     Seed 21 of 50\n",
      "     Seed 22 of 50\n",
      "     Seed 23 of 50\n",
      "     Seed 24 of 50\n",
      "     Seed 25 of 50\n",
      "     Seed 26 of 50\n",
      "     Seed 27 of 50\n",
      "     Seed 28 of 50\n",
      "     Seed 29 of 50\n",
      "     Seed 30 of 50\n",
      "     Seed 31 of 50\n",
      "     Seed 32 of 50\n",
      "     Seed 33 of 50\n",
      "     Seed 34 of 50\n",
      "     Seed 35 of 50\n",
      "     Seed 36 of 50\n",
      "     Seed 37 of 50\n",
      "     Seed 38 of 50\n",
      "     Seed 39 of 50\n",
      "     Seed 40 of 50\n",
      "     Seed 41 of 50\n",
      "     Seed 42 of 50\n",
      "     Seed 43 of 50\n",
      "     Seed 44 of 50\n",
      "     Seed 45 of 50\n",
      "     Seed 46 of 50\n",
      "     Seed 47 of 50\n",
      "     Seed 48 of 50\n",
      "     Seed 49 of 50\n",
      "   - Computing training mask (This takes several minutes)\n",
      "Enhancing vessels (This takes several minutes)\n",
      "Extract vessels (This takes several minutes)\n",
      "   - Extracting seed info\n",
      "   - Extracting vessels\n",
      "   - Saving results\n"
     ]
    }
   ],
   "source": [
    "scales = [1.00]\n",
    "vess_out = []\n",
    "for scale in scales:\n",
    "    vess.normalize_image(vessels_scale=scale)\n",
    "    vess.identify_training_seeds()\n",
    "    vess.generate_training_mask_image()\n",
    "    vess.enhance_vessels()\n",
    "    vess.extract_vessels(alter_image=img_org_iso) \n",
    "    vess_out.append(vess.data_vessels_group)"
   ]
  },
  {
   "cell_type": "code",
   "execution_count": 6,
   "id": "338b1f79-3f21-42f9-b5f6-9bbd489898e7",
   "metadata": {
    "execution": {
     "iopub.execute_input": "2024-01-02T17:02:20.808086Z",
     "iopub.status.busy": "2024-01-02T17:02:20.808086Z",
     "iopub.status.idle": "2024-01-02T17:04:41.422491Z",
     "shell.execute_reply": "2024-01-02T17:04:41.422491Z",
     "shell.execute_reply.started": "2024-01-02T17:02:20.808086Z"
    },
    "tags": []
   },
   "outputs": [
    {
     "name": "stdout",
     "output_type": "stream",
     "text": [
      "Selected position:  [19.951378556688194, -37.802465252690354, -29.02788878503381]\n",
      "Selected position:  [0.22804242738661173, -44.29045206127374, -17.721387976274997]\n",
      "Selected position:  [-16.0441253013936, -15.77567750869838, -23.556015204135434]\n",
      "Selected position:  [-8.01627861763788, 12.885346870975589, 20.56153503207301]\n",
      "Selected position:  [-9.890485598223165, -0.35773761990677144, 26.958045409271037]\n",
      "Selected position:  [-8.013796849266726, -30.321472899526228, 24.225217936271974]\n"
     ]
    }
   ],
   "source": [
    "viewer1 = tube_viewer(tubes=vess_out[0])\n",
    "viewer1.render_tubes_as_surfaces()"
   ]
  },
  {
   "cell_type": "code",
   "execution_count": null,
   "id": "c9bb939a-0399-4409-bdc4-a169722b0bf2",
   "metadata": {
    "execution": {
     "iopub.execute_input": "2023-12-15T19:07:35.398422Z",
     "iopub.status.busy": "2023-12-15T19:07:35.398422Z",
     "iopub.status.idle": "2023-12-15T19:07:36.369070Z",
     "shell.execute_reply": "2023-12-15T19:07:36.368057Z",
     "shell.execute_reply.started": "2023-12-15T19:07:35.398422Z"
    },
    "tags": []
   },
   "outputs": [],
   "source": [
    "vgrp_base = read_group(\"./brain.tre\")\n",
    "viewer2 = tube_viewer(tubes=vgrp_base)\n",
    "viewer2.render_tubes_as_surfaces(param=\"Radius\")"
   ]
  }
 ],
 "metadata": {
  "kernelspec": {
   "display_name": "Python 3 (ipykernel)",
   "language": "python",
   "name": "python3"
  },
  "language_info": {
   "codemirror_mode": {
    "name": "ipython",
    "version": 3
   },
   "file_extension": ".py",
   "mimetype": "text/x-python",
   "name": "python",
   "nbconvert_exporter": "python",
   "pygments_lexer": "ipython3",
   "version": "3.11.7"
  }
 },
 "nbformat": 4,
 "nbformat_minor": 5
}
