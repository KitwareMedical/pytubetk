{
 "cells": [
  {
   "cell_type": "code",
   "execution_count": null,
   "id": "7e4b2210-903a-4f11-9f45-f6efdc1d6792",
   "metadata": {
    "execution": {
     "iopub.execute_input": "2024-01-02T14:26:54.747487Z",
     "iopub.status.busy": "2024-01-02T14:26:54.746490Z",
     "iopub.status.idle": "2024-01-02T14:27:05.601775Z",
     "shell.execute_reply": "2024-01-02T14:27:05.599758Z",
     "shell.execute_reply.started": "2024-01-02T14:26:54.747487Z"
    },
    "tags": []
   },
   "outputs": [],
   "source": [
    "import itk\n",
    "from itk import TubeTK as tube\n",
    "\n",
    "import vtk\n",
    "\n",
    "import site\n",
    "\n",
    "\n",
    "site.addsitedir(\"../../src\")\n",
    "from tube_viewer import tube_viewer\n",
    "from tube_utils import read_group, write_group\n",
    "\n",
    "from segment_vessels_brain_mra import  segment_vessels_brain_mra"
   ]
  },
  {
   "cell_type": "code",
   "execution_count": 5,
   "id": "686565a3-593b-4acf-9e45-c821742bc64e",
   "metadata": {
    "execution": {
     "iopub.execute_input": "2024-01-02T14:27:05.605770Z",
     "iopub.status.busy": "2024-01-02T14:27:05.604777Z",
     "iopub.status.idle": "2024-01-02T14:28:18.654901Z",
     "shell.execute_reply": "2024-01-02T14:28:18.652830Z",
     "shell.execute_reply.started": "2024-01-02T14:27:05.605770Z"
    }
   },
   "outputs": [],
   "source": [
    "img = itk.imread(\"../data/MRI-Cases/mra-brain.mha\", itk.F)\n",
    "makeIso = tube.ResampleImage.New(img, MakeHighResIso=True)\n",
    "makeIso.Update()\n",
    "img_iso = makeIso.GetOutput()\n",
    "itk.imwrite(img_iso, \"./mra_brain_iso.mha\")\n",
    "\n",
    "img_org = itk.imread(\"../data/MRI-Cases/mra.mha\", itk.F)\n",
    "makeIso = tube.ResampleImage.New(img_org, MakeHighResIso=True)\n",
    "makeIso.Update()\n",
    "img_org_iso = makeIso.GetOutput()\n",
    "itk.imwrite(img_org_iso, \"./mra_iso.mha\")"
   ]
  },
  {
   "cell_type": "code",
   "execution_count": null,
   "id": "2a629739-bb06-4dcd-baf3-27d5aacf9f93",
   "metadata": {
    "execution": {
     "iopub.execute_input": "2024-01-02T14:28:25.494440Z",
     "iopub.status.busy": "2024-01-02T14:28:25.494440Z",
     "iopub.status.idle": "2024-01-02T14:28:42.425045Z",
     "shell.execute_reply": "2024-01-02T14:28:42.422914Z",
     "shell.execute_reply.started": "2024-01-02T14:28:25.494440Z"
    },
    "tags": []
   },
   "outputs": [],
   "source": [
    "vess = segment_vessels_brain_mra(debug=True, debug_output_base_name=\"Debug/brain\")\n",
    "vess.set_input_image(img_iso)"
   ]
  },
  {
   "cell_type": "code",
   "execution_count": null,
   "id": "5217f0b3",
   "metadata": {
    "execution": {
     "iopub.execute_input": "2024-01-02T14:28:42.428936Z",
     "iopub.status.busy": "2024-01-02T14:28:42.428025Z",
     "iopub.status.idle": "2024-01-02T15:11:42.664945Z",
     "shell.execute_reply": "2024-01-02T15:11:42.661641Z",
     "shell.execute_reply.started": "2024-01-02T14:28:42.428025Z"
    },
    "tags": []
   },
   "outputs": [],
   "source": [
    "scales = [1.00]\n",
    "vess_out = []\n",
    "for scale in scales:\n",
    "    vess.normalize_image(vessels_scale=scale)\n",
    "    vess.identify_training_seeds()\n",
    "    vess.generate_training_mask_image()\n",
    "    vess.enhance_vessels()\n",
    "    vess.extract_vessels(alter_image=img_org_iso) \n",
    "    vess_out.append(vess.data_vessels_group)"
   ]
  },
  {
   "cell_type": "code",
   "execution_count": null,
   "id": "6d5273ca",
   "metadata": {},
   "outputs": [],
   "source": [
    "write_group(vess_out[0],\"./brain.tre\")"
   ]
  },
  {
   "cell_type": "code",
   "execution_count": null,
   "id": "338b1f79-3f21-42f9-b5f6-9bbd489898e7",
   "metadata": {
    "execution": {
     "iopub.execute_input": "2024-01-02T17:02:20.808086Z",
     "iopub.status.busy": "2024-01-02T17:02:20.808086Z",
     "iopub.status.idle": "2024-01-02T17:04:41.422491Z",
     "shell.execute_reply": "2024-01-02T17:04:41.422491Z",
     "shell.execute_reply.started": "2024-01-02T17:02:20.808086Z"
    },
    "tags": []
   },
   "outputs": [],
   "source": [
    "v = tube_viewer(vess_out[0])\n",
    "v.render_tubes_as_surfaces()"
   ]
  },
  {
   "cell_type": "code",
   "execution_count": null,
   "id": "7f86b8f4",
   "metadata": {},
   "outputs": [],
   "source": [
    "tubes = read_group(\"./brain.tre\")\n",
    "t = tube_viewer(tubes)\n",
    "t.render_tubes_as_surfaces()"
   ]
  },
  {
   "cell_type": "code",
   "execution_count": 3,
   "id": "09f665a7",
   "metadata": {},
   "outputs": [],
   "source": [
    "img_t2 = itk.imread(\"../data/MRI-Cases/mri_t2.mha\", itk.F)\n",
    "imReg = tube.RegisterImages[itk.Image[itk.F, 3]].New()\n",
    "imReg.SetFixedImage(img_org_iso)\n",
    "imReg.SetMovingImage(img_t2)\n",
    "imReg.SetReportProgress(True)\n",
    "imReg.SetExpectedOffsetMagnitude(20)\n",
    "imReg.SetExpectedRotationMagnitude(0.01)\n",
    "imReg.SetExpectedScaleMagnitude(0.01)\n",
    "imReg.SetRigidMaxIterations(500)\n",
    "imReg.SetRigidSamplingRatio(0.1)\n",
    "imReg.SetRegistration(\"RIGID\")\n",
    "imReg.SetMetric(\"MATTES_MI_METRIC\")\n",
    "imReg.Update()\n",
    "itk.imwrite(imReg.GetFinalMovingImage(), \"mri_t2_reg.mha\")\n"
   ]
  },
  {
   "cell_type": "code",
   "execution_count": 4,
   "id": "acddb866",
   "metadata": {},
   "outputs": [],
   "source": [
    "img_t1 = itk.imread(\"../data/MRI-Cases/mri_t1_sag.mha\", itk.F)\n",
    "imReg = tube.RegisterImages[itk.Image[itk.F,3]].New()\n",
    "imReg.SetFixedImage(img_org_iso)\n",
    "imReg.SetMovingImage(img_t1)\n",
    "imReg.SetReportProgress(True)\n",
    "imReg.SetExpectedOffsetMagnitude(20)\n",
    "imReg.SetExpectedRotationMagnitude(0.01)\n",
    "imReg.SetExpectedScaleMagnitude(0.01)\n",
    "imReg.SetRigidMaxIterations(500)\n",
    "imReg.SetRigidSamplingRatio(0.1)\n",
    "imReg.SetRegistration(\"RIGID\")\n",
    "imReg.SetMetric(\"MATTES_MI_METRIC\")\n",
    "imReg.Update()\n",
    "itk.imwrite(imReg.GetFinalMovingImage(), \"mri_t1_sag_reg.mha\")\n"
   ]
  }
 ],
 "metadata": {
  "kernelspec": {
   "display_name": "Python 3 (ipykernel)",
   "language": "python",
   "name": "python3"
  },
  "language_info": {
   "codemirror_mode": {
    "name": "ipython",
    "version": 3
   },
   "file_extension": ".py",
   "mimetype": "text/x-python",
   "name": "python",
   "nbconvert_exporter": "python",
   "pygments_lexer": "ipython3",
   "version": "3.11.7"
  }
 },
 "nbformat": 4,
 "nbformat_minor": 5
}
