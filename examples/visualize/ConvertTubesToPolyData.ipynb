{
 "cells": [
  {
   "cell_type": "markdown",
   "metadata": {},
   "source": [
    "# Convert Tubes To PolyData"
   ]
  },
  {
   "cell_type": "markdown",
   "metadata": {},
   "source": [
    "This notebook contains a few examples of how to call wrapped methods in itk and ITKTubeTK."
   ]
  },
  {
   "cell_type": "markdown",
   "metadata": {},
   "source": [
    "ITK and TubeTK must be installed on your system for this notebook to work.  Typically, this is accomplished by\n",
    "   > python -m pip install itk-tubetk"
   ]
  },
  {
   "cell_type": "code",
   "execution_count": 1,
   "metadata": {},
   "outputs": [],
   "source": [
    "import os\n",
    "import sys\n",
    "import site\n",
    "import numpy"
   ]
  },
  {
   "cell_type": "code",
   "execution_count": 2,
   "metadata": {},
   "outputs": [],
   "source": [
    "import itk\n",
    "from itk import TubeTK as ttk\n",
    "\n",
    "import vtk\n",
    "\n",
    "site.addsitedir(\"../../src\")\n",
    "from tube_utils import *\n",
    "from tube_visualization_utils import *\n",
    "from tube_viewer import *"
   ]
  },
  {
   "cell_type": "markdown",
   "metadata": {},
   "source": [
    "Load the tubes"
   ]
  },
  {
   "cell_type": "code",
   "execution_count": 3,
   "metadata": {},
   "outputs": [],
   "source": [
    "# Read tre file\n",
    "tubes = read_group(\"../data/MRI-Normals/Normal071-VascularNetwork.tre\")"
   ]
  },
  {
   "cell_type": "code",
   "execution_count": 4,
   "metadata": {},
   "outputs": [],
   "source": [
    "polylines = convert_tubes_to_polylines(tubes)\n",
    "surfaces = convert_tubes_to_surfaces(tubes)"
   ]
  },
  {
   "cell_type": "code",
   "execution_count": 5,
   "metadata": {},
   "outputs": [
    {
     "name": "stdout",
     "output_type": "stream",
     "text": [
      "Selected position:  [105.16917386396953, 84.55353884529282, 8.694410718864166]\n",
      "  Tube id:  1.0\n",
      "  Tube Length:  3404\n",
      "    Point id:  -1\n",
      "    Point position:  itkPointD3 ([104.74, 85.9692, 9.3033])\n",
      "    Point radius:  1.6701290081934925\n",
      "\n",
      "\n",
      "Selected position:  [51.395275505464326, 128.36931932664893, 51.15860418195127]\n",
      "  Tube id:  1.0\n",
      "  Tube Length:  3404\n",
      "    Point id:  -1\n",
      "    Point position:  itkPointD3 ([51.8203, 128.576, 51.8037])\n",
      "    Point radius:  0.7171484295662641\n",
      "\n",
      "\n",
      "Selected position:  [52.745720744376, 126.72272461581574, 51.770293290911994]\n",
      "  Tube id:  1.0\n",
      "  Tube Length:  3404\n",
      "    Point id:  -1\n",
      "    Point position:  itkPointD3 ([53.2034, 127.212, 51.52])\n",
      "    Point radius:  0.7444198744804859\n",
      "\n",
      "\n",
      "Selected position:  [56.23775164014293, 125.45138216329272, 53.853962238207906]\n",
      "  Tube id:  1.0\n",
      "  Tube Length:  3404\n",
      "    Point id:  -1\n",
      "    Point position:  itkPointD3 ([56.5076, 124.962, 53.2238])\n",
      "    Point radius:  0.7139397110760212\n",
      "\n",
      "\n"
     ]
    }
   ],
   "source": [
    "view = tube_viewer(tubes)\n",
    "view.render_tubes_as_surfaces()"
   ]
  }
 ],
 "metadata": {
  "kernelspec": {
   "display_name": "Python 3 (ipykernel)",
   "language": "python",
   "name": "python3"
  },
  "language_info": {
   "codemirror_mode": {
    "name": "ipython",
    "version": 3
   },
   "file_extension": ".py",
   "mimetype": "text/x-python",
   "name": "python",
   "nbconvert_exporter": "python",
   "pygments_lexer": "ipython3",
   "version": "3.11.7"
  }
 },
 "nbformat": 4,
 "nbformat_minor": 4
}
