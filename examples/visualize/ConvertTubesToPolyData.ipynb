{
 "cells": [
  {
   "cell_type": "markdown",
   "metadata": {},
   "source": [
    "# Convert Tubes To PolyData"
   ]
  },
  {
   "cell_type": "markdown",
   "metadata": {},
   "source": [
    "This notebook contains a few examples of how to call wrapped methods in itk and ITKTubeTK."
   ]
  },
  {
   "cell_type": "markdown",
   "metadata": {},
   "source": [
    "ITK and TubeTK must be installed on your system for this notebook to work.  Typically, this is accomplished by\n",
    "   > python -m pip install itk-tubetk"
   ]
  },
  {
   "cell_type": "code",
   "execution_count": 1,
   "metadata": {},
   "outputs": [],
   "source": [
    "import os\n",
    "import sys\n",
    "import site\n",
    "import numpy"
   ]
  },
  {
   "cell_type": "code",
   "execution_count": 2,
   "metadata": {},
   "outputs": [],
   "source": [
    "import itk\n",
    "from itk import TubeTK as ttk\n",
    "\n",
    "import vtk\n",
    "\n",
    "site.addsitedir(\"../../src\")\n",
    "from tube_utils import *\n",
    "from tube_visualization_utils import *\n",
    "from tube_viewer import *"
   ]
  },
  {
   "cell_type": "markdown",
   "metadata": {},
   "source": [
    "Load the tubes"
   ]
  },
  {
   "cell_type": "code",
   "execution_count": 3,
   "metadata": {},
   "outputs": [],
   "source": [
    "# Read tre file\n",
    "tubes = read_group(\"../data/MRI-Normals/Normal071-VascularNetwork.tre\")"
   ]
  },
  {
   "cell_type": "code",
   "execution_count": 4,
   "metadata": {},
   "outputs": [],
   "source": [
    "polylines = convert_tubes_to_polylines(tubes)\n",
    "surfaces = convert_tubes_to_surfaces(tubes)"
   ]
  },
  {
   "cell_type": "code",
   "execution_count": 5,
   "metadata": {},
   "outputs": [
    {
     "name": "stdout",
     "output_type": "stream",
     "text": [
      "Selected position:  [115.10659157430194, 94.73632201617775, 81.06211044977158]\n",
      "  Tube id:  233.0\n",
      "  Tube Length:  2125\n",
      "    Point id:  504\n",
      "    Point position:  (115.01899719238281, 94.70004272460938, 81.04513549804688)\n",
      "    Point radius:  0.5390626255195141\n",
      "\n",
      "Selected position:  [128.07132250642024, 120.34639859561482, 28.045345251462436]\n",
      "  Tube id:  28.0\n",
      "  Tube Length:  10710\n",
      "    Point id:  2981\n",
      "    Point position:  (127.95054626464844, 120.044189453125, 28.260623931884766)\n",
      "    Point radius:  0.7380024374999999\n",
      "\n",
      "Selected position:  [135.53915447039034, 135.29944146476134, 29.38713184137589]\n",
      "  Tube id:  50.0\n",
      "  Tube Length:  6435\n",
      "    Point id:  2155\n",
      "    Point position:  (135.55789184570312, 135.22947692871094, 29.409700393676758)\n",
      "    Point radius:  0.5089809126239419\n",
      "\n",
      "Selected position:  [136.28800697812068, 136.79777148311305, 29.407509724261246]\n",
      "  Tube id:  50.0\n",
      "  Tube Length:  6435\n",
      "    Point id:  2311\n",
      "    Point position:  (136.39178466796875, 136.70057678222656, 29.46249771118164)\n",
      "    Point radius:  0.6529743045662642\n",
      "\n",
      "Selected position:  [137.53338234611687, 137.79078734590078, 29.49656532516923]\n",
      "  Tube id:  50.0\n",
      "  Tube Length:  6435\n",
      "    Point id:  2460\n",
      "    Point position:  (137.79812622070312, 137.77830505371094, 29.571422576904297)\n",
      "    Point radius:  0.667811376269102\n",
      "\n",
      "Selected position:  [134.29773501649285, 135.06367372544125, 29.174035064115742]\n",
      "  Tube id:  50.0\n",
      "  Tube Length:  6435\n",
      "    Point id:  2045\n",
      "    Point position:  (134.38299560546875, 134.72386169433594, 29.249515533447266)\n",
      "    Point radius:  0.6401394918065071\n",
      "\n",
      "Selected position:  [132.61943654767148, 127.07597637292923, 34.24275313672656]\n",
      "  Tube id:  124.0\n",
      "  Tube Length:  2510\n",
      "    Point id:  1096\n",
      "    Point position:  (132.6254119873047, 127.26099395751953, 34.05717086791992)\n",
      "    Point radius:  0.513393\n",
      "\n",
      "Selected position:  [137.9126286173899, 126.68414412187, 37.35768877634854]\n",
      "  Tube id:  136.0\n",
      "  Tube Length:  1750\n",
      "    Point id:  1042\n",
      "    Point position:  (137.9229736328125, 126.65371704101562, 37.3489990234375)\n",
      "    Point radius:  0.513393\n",
      "\n",
      "Selected position:  [141.57394588263156, 129.31264543606943, 24.024522317994524]\n",
      "  Tube id:  66.0\n",
      "  Tube Length:  1285\n",
      "    Point id:  579\n",
      "    Point position:  (141.5886993408203, 129.3720245361328, 24.048858642578125)\n",
      "    Point radius:  0.513393\n",
      "\n",
      "Selected position:  [148.11229422580772, 134.33770874690904, 24.503783398097767]\n",
      "  Tube id:  240.0\n",
      "  Tube Length:  1635\n",
      "    Point id:  1019\n",
      "    Point position:  (148.06845092773438, 134.33311462402344, 24.490619659423828)\n",
      "    Point radius:  0.513393\n",
      "\n",
      "Selected position:  [147.11169682771722, 131.64242941680112, 53.26419144929706]\n",
      "  Tube id:  179.0\n",
      "  Tube Length:  775\n",
      "    Point id:  322\n",
      "    Point position:  (147.0519256591797, 131.90460205078125, 53.161712646484375)\n",
      "    Point radius:  0.5855914610760212\n",
      "\n",
      "Selected position:  [143.17438942608106, 137.82830194684618, 17.73892523829815]\n",
      "  Tube id:  24.0\n",
      "  Tube Length:  1440\n",
      "    Point id:  810\n",
      "    Point position:  (143.17626953125, 137.7916259765625, 17.631820678710938)\n",
      "    Point radius:  0.513393\n",
      "\n",
      "Selected position:  [131.39529847825892, 82.53264175496825, 8.988340537708382]\n",
      "  Tube id:  26.0\n",
      "  Tube Length:  5600\n",
      "    Point id:  645\n",
      "    Point position:  (131.43601989746094, 82.58547973632812, 8.990792274475098)\n",
      "    Point radius:  0.8150113752597571\n",
      "\n",
      "Selected position:  [69.78164563517534, 165.8128324590288, 11.301284280059292]\n",
      "  Tube id:  6.0\n",
      "  Tube Length:  7040\n",
      "    Point id:  6129\n",
      "    Point position:  (69.85602569580078, 165.99327087402344, 11.364465713500977)\n",
      "    Point radius:  0.6609934997402429\n",
      "\n",
      "Selected position:  [56.87989390309165, 114.96523407827003, 30.07766791197895]\n",
      "  Tube id:  100.0\n",
      "  Tube Length:  4125\n",
      "    Point id:  2529\n",
      "    Point position:  (56.89547348022461, 115.05984497070312, 30.03573226928711)\n",
      "    Point radius:  0.513393\n",
      "\n"
     ]
    }
   ],
   "source": [
    "view = tube_viewer(tubes)\n",
    "view.render_tubes_as_surfaces()"
   ]
  }
 ],
 "metadata": {
  "kernelspec": {
   "display_name": "Python 3 (ipykernel)",
   "language": "python",
   "name": "python3"
  },
  "language_info": {
   "codemirror_mode": {
    "name": "ipython",
    "version": 3
   },
   "file_extension": ".py",
   "mimetype": "text/x-python",
   "name": "python",
   "nbconvert_exporter": "python",
   "pygments_lexer": "ipython3",
   "version": "3.11.7"
  }
 },
 "nbformat": 4,
 "nbformat_minor": 4
}
