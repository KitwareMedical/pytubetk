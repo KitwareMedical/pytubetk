{
 "cells": [
  {
   "cell_type": "markdown",
   "metadata": {},
   "source": [
    "# Convert Tubes To PolyData"
   ]
  },
  {
   "cell_type": "markdown",
   "metadata": {},
   "source": [
    "This notebook contains a few examples of how to call wrapped methods in itk and ITKTubeTK."
   ]
  },
  {
   "cell_type": "markdown",
   "metadata": {},
   "source": [
    "ITK and TubeTK must be installed on your system for this notebook to work.  Typically, this is accomplished by\n",
    "   > python -m pip install itk-tubetk"
   ]
  },
  {
   "cell_type": "code",
   "execution_count": 1,
   "metadata": {},
   "outputs": [],
   "source": [
    "import os\n",
    "import sys\n",
    "import site\n",
    "import numpy"
   ]
  },
  {
   "cell_type": "code",
   "execution_count": 2,
   "metadata": {},
   "outputs": [],
   "source": [
    "import itk\n",
    "from itk import TubeTK as ttk\n",
    "\n",
    "import vtk\n",
    "\n",
    "site.addsitedir(\"../../src\")\n",
    "from tube_utils import *\n",
    "from tube_visualization_utils import *\n",
    "from tube_viewer import *"
   ]
  },
  {
   "cell_type": "markdown",
   "metadata": {},
   "source": [
    "Load the tubes"
   ]
  },
  {
   "cell_type": "code",
   "execution_count": 3,
   "metadata": {},
   "outputs": [],
   "source": [
    "# Read tre file\n",
    "tubes = read_group(\"../data/MRI-Normals/Normal071-VascularNetwork.tre\")"
   ]
  },
  {
   "cell_type": "code",
   "execution_count": 4,
   "metadata": {},
   "outputs": [],
   "source": [
    "polylines = convert_tubes_to_polylines(tubes)\n",
    "surfaces = convert_tubes_to_surfaces(tubes)"
   ]
  },
  {
   "cell_type": "code",
   "execution_count": 5,
   "metadata": {},
   "outputs": [
    {
     "name": "stdout",
     "output_type": "stream",
     "text": [
      "Selected position:  [112.58163591996744, 105.47564080580163, 99.68439271618274]\n",
      "  Tube id:  214.0\n",
      "  Tube Length:  909\n",
      "    Point id:  -1\n",
      "    Point position:  itkPointD3 ([112.266, 105.66, 99.5067])\n",
      "    Point radius:  0.48852526339727637\n",
      "\n",
      "Selected position:  [118.25789426410476, 130.85530183460898, 42.517415324103354]\n",
      "  Tube id:  149.0\n",
      "  Tube Length:  116\n",
      "    Point id:  -1\n",
      "    Point position:  itkPointD3 ([118.354, 131.395, 42.2095])\n",
      "    Point radius:  0.513393\n",
      "\n",
      "Selected position:  [122.2853776583084, 114.29320901888487, 72.71881111407808]\n",
      "  Tube id:  211.0\n",
      "  Tube Length:  1192\n",
      "    Point id:  -1\n",
      "    Point position:  itkPointD3 ([122.332, 114.548, 72.4331])\n",
      "    Point radius:  0.47097801829987757\n",
      "\n",
      "Selected position:  [125.4526833466025, 123.72483627334114, 31.269417280441303]\n",
      "  Tube id:  28.0\n",
      "  Tube Length:  2140\n",
      "    Point id:  -1\n",
      "    Point position:  itkPointD3 ([124.94, 123.743, 31.0638])\n",
      "    Point radius:  0.6794448091825247\n",
      "\n",
      "Selected position:  [125.4526833466025, 123.72483627334114, 31.269417280441303]\n",
      "  Tube id:  28.0\n",
      "  Tube Length:  2140\n",
      "    Point id:  -1\n",
      "    Point position:  itkPointD3 ([124.94, 123.743, 31.0638])\n",
      "    Point radius:  0.6794448091825247\n",
      "\n",
      "Selected position:  [123.6582077356745, 126.96483409360431, 34.97470403867784]\n",
      "  Tube id:  28.0\n",
      "  Tube Length:  2140\n",
      "    Point id:  -1\n",
      "    Point position:  itkPointD3 ([123.253, 127.029, 34.6586])\n",
      "    Point radius:  0.6313142154325246\n",
      "\n",
      "Selected position:  [116.80955542329612, 116.32167141370522, 82.40551359613248]\n",
      "  Tube id:  211.0\n",
      "  Tube Length:  1192\n",
      "    Point id:  -1\n",
      "    Point position:  itkPointD3 ([116.668, 116.099, 81.9738])\n",
      "    Point radius:  0.6242910088280439\n",
      "\n",
      "Selected position: "
     ]
    }
   ],
   "source": [
    "view = tube_viewer(tubes)\n",
    "view.render_tubes_as_surfaces()"
   ]
  },
  {
   "cell_type": "code",
   "execution_count": null,
   "metadata": {},
   "outputs": [],
   "source": []
  }
 ],
 "metadata": {
  "kernelspec": {
   "display_name": "Python 3 (ipykernel)",
   "language": "python",
   "name": "python3"
  },
  "language_info": {
   "codemirror_mode": {
    "name": "ipython",
    "version": 3
   },
   "file_extension": ".py",
   "mimetype": "text/x-python",
   "name": "python",
   "nbconvert_exporter": "python",
   "pygments_lexer": "ipython3",
   "version": "3.11.7"
  }
 },
 "nbformat": 4,
 "nbformat_minor": 4
}
